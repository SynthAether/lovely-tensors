{
 "cells": [
  {
   "cell_type": "markdown",
   "metadata": {},
   "source": [
    "## 🤔 Config"
   ]
  },
  {
   "cell_type": "code",
   "execution_count": null,
   "metadata": {},
   "outputs": [],
   "source": [
    "#| default_exp utils.config"
   ]
  },
  {
   "cell_type": "code",
   "execution_count": null,
   "metadata": {},
   "outputs": [],
   "source": [
    "# |hide\n",
    "from nbdev.showdoc import *\n",
    "from fastcore.test import test_eq"
   ]
  },
  {
   "cell_type": "code",
   "execution_count": null,
   "metadata": {},
   "outputs": [],
   "source": [
    "# |hide\n",
    "# |export\n",
    "from copy import copy\n",
    "from types import SimpleNamespace\n",
    "from typing import Optional, Union, Callable, TypeVar\n",
    "from contextlib import contextmanager\n",
    "from lovely_numpy import config as np_config"
   ]
  },
  {
   "cell_type": "code",
   "execution_count": null,
   "metadata": {},
   "outputs": [],
   "source": [
    "# |exporti\n",
    "\n",
    "# |exporti\n",
    "_defaults = SimpleNamespace(\n",
    "    precision     = 3,    # Digits after `.`\n",
    "    threshold_max = 3,    # .abs() larger than 1e3 -> Sci mode\n",
    "    threshold_min = -4,   # .abs() smaller that 1e-4 -> Sci mode\n",
    "    sci_mode      = None, # Sci mode (2.3e4). \n",
    "    indent        = 2,    # Indent for .deeper()\n",
    "    color         = True, # ANSI colors in text\n",
    "    deeper_width  = 9,    # For .deeper, how many entries to show per level\n",
    ")\n",
    "\n",
    "_config = copy(_defaults)"
   ]
  },
  {
   "cell_type": "code",
   "execution_count": null,
   "metadata": {},
   "outputs": [],
   "source": [
    "# |exporti\n",
    "\n",
    "# Allows passing None as an argument to reset to defaults\n",
    "class _Default():\n",
    "    def __repr__(self):\n",
    "        return \"Ignore\"\n",
    "Default = _Default()\n",
    "D = TypeVar(\"Default\")"
   ]
  },
  {
   "cell_type": "code",
   "execution_count": null,
   "metadata": {},
   "outputs": [],
   "source": [
    "# |export\n",
    "\n",
    "def set_config( precision       :Optional[Union[D, int]] =Default,  # Digits after `.`\n",
    "                threshold_min   :Optional[Union[D,int]]  =Default,  # .abs() larger than 1e3 -> Sci mode\n",
    "                threshold_max   :Optional[Union[D,int]]  =Default,  # .abs() smaller that 1e-4 -> Sci mode\n",
    "                sci_mode        :Optional[Union[D,bool]] =Default,  # Sci mode (1.2e3), True, False, None=auto.\n",
    "                indent          :Optional[Union[D,bool]] =Default,  # Indent for .deeper()\n",
    "                color           :Optional[Union[D,bool]] =Default,  # ANSI colors in text\n",
    "                deeper_width     :Optional[Union[D,int]] =Default): # For .deeper, how many entries to show per level\n",
    "\n",
    "    \"Set config variables\"\n",
    "    args = locals().copy()\n",
    "    for k,v in args.items():\n",
    "        if v != Default:\n",
    "            if v is None:\n",
    "                setattr(_config, k, getattr(_defaults, k))\n",
    "            else:\n",
    "                setattr(_config, k, v)"
   ]
  },
  {
   "cell_type": "code",
   "execution_count": null,
   "metadata": {},
   "outputs": [],
   "source": [
    "# |export\n",
    "def get_config():\n",
    "    \"Get a copy of config variables\"\n",
    "    return copy(_config)"
   ]
  },
  {
   "cell_type": "code",
   "execution_count": null,
   "metadata": {},
   "outputs": [],
   "source": [
    "# |export\n",
    "@contextmanager\n",
    "def config( precision       :Optional[Union[D,int]]  =Default,  # Digits after `.`\n",
    "            threshold_min   :Optional[Union[D,int]]  =Default,  # .abs() larger than 1e3 -> Sci mode\n",
    "            threshold_max   :Optional[Union[D,int]]  =Default,  # .abs() smaller that 1e-4 -> Sci mode\n",
    "            sci_mode        :Optional[Union[D,bool]] =Default,  # Sci mode (1.2e3), True, False, None=auto.\n",
    "            indent          :Optional[Union[D,bool]] =Default,  # Indent for .deeper()\n",
    "            color           :Optional[Union[D,bool]] =Default,  # ANSI colors in text\n",
    "            deeper_width     :Optional[Union[D,int]] =Default): # For .deeper, how many entries to show per level\n",
    "\n",
    "    \"Context manager for temporarily setting printting options.\"\n",
    "    global _config\n",
    "    new_opts = { k:v for k, v in locals().items() if v != Default }\n",
    "    old_opts = copy(get_config().__dict__)\n",
    "\n",
    "    try:\n",
    "        set_config(**new_opts)\n",
    "        yield\n",
    "    finally:\n",
    "        set_config(**old_opts)"
   ]
  },
  {
   "cell_type": "code",
   "execution_count": null,
   "metadata": {},
   "outputs": [
    {
     "data": {
      "text/markdown": [
       "---\n",
       "\n",
       "[source](https://github.com/xl0/lovely-tensors/blob/master/lovely_tensors/utils/config.py#L35){target=\"_blank\" style=\"float:right; font-size:smaller\"}\n",
       "\n",
       "### set_config\n",
       "\n",
       ">      set_config (precision:Union[~Default,int,NoneType]=Ignore,\n",
       ">                  threshold_min:Union[~Default,int,NoneType]=Ignore,\n",
       ">                  threshold_max:Union[~Default,int,NoneType]=Ignore,\n",
       ">                  sci_mode:Union[~Default,bool,NoneType]=Ignore,\n",
       ">                  indent:Union[~Default,bool,NoneType]=Ignore,\n",
       ">                  color:Union[~Default,bool,NoneType]=Ignore,\n",
       ">                  deeper_width:Union[~Default,int,NoneType]=Ignore)\n",
       "\n",
       "Set config variables\n",
       "\n",
       "|    | **Type** | **Default** | **Details** |\n",
       "| -- | -------- | ----------- | ----------- |\n",
       "| precision | Union | Ignore | Digits after `.` |\n",
       "| threshold_min | Union | Ignore | .abs() larger than 1e3 -> Sci mode |\n",
       "| threshold_max | Union | Ignore | .abs() smaller that 1e-4 -> Sci mode |\n",
       "| sci_mode | Union | Ignore | Sci mode (1.2e3), True, False, None=auto. |\n",
       "| indent | Union | Ignore | Indent for .deeper() |\n",
       "| color | Union | Ignore | ANSI colors in text |\n",
       "| deeper_width | Union | Ignore | For .deeper, how many entries to show per level |"
      ],
      "text/plain": [
       "---\n",
       "\n",
       "[source](https://github.com/xl0/lovely-tensors/blob/master/lovely_tensors/utils/config.py#L35){target=\"_blank\" style=\"float:right; font-size:smaller\"}\n",
       "\n",
       "### set_config\n",
       "\n",
       ">      set_config (precision:Union[~Default,int,NoneType]=Ignore,\n",
       ">                  threshold_min:Union[~Default,int,NoneType]=Ignore,\n",
       ">                  threshold_max:Union[~Default,int,NoneType]=Ignore,\n",
       ">                  sci_mode:Union[~Default,bool,NoneType]=Ignore,\n",
       ">                  indent:Union[~Default,bool,NoneType]=Ignore,\n",
       ">                  color:Union[~Default,bool,NoneType]=Ignore,\n",
       ">                  deeper_width:Union[~Default,int,NoneType]=Ignore)\n",
       "\n",
       "Set config variables\n",
       "\n",
       "|    | **Type** | **Default** | **Details** |\n",
       "| -- | -------- | ----------- | ----------- |\n",
       "| precision | Union | Ignore | Digits after `.` |\n",
       "| threshold_min | Union | Ignore | .abs() larger than 1e3 -> Sci mode |\n",
       "| threshold_max | Union | Ignore | .abs() smaller that 1e-4 -> Sci mode |\n",
       "| sci_mode | Union | Ignore | Sci mode (1.2e3), True, False, None=auto. |\n",
       "| indent | Union | Ignore | Indent for .deeper() |\n",
       "| color | Union | Ignore | ANSI colors in text |\n",
       "| deeper_width | Union | Ignore | For .deeper, how many entries to show per level |"
      ]
     },
     "execution_count": null,
     "metadata": {},
     "output_type": "execute_result"
    }
   ],
   "source": [
    "show_doc(set_config)"
   ]
  },
  {
   "cell_type": "code",
   "execution_count": null,
   "metadata": {},
   "outputs": [
    {
     "data": {
      "text/markdown": [
       "---\n",
       "\n",
       "[source](https://github.com/xl0/lovely-tensors/blob/master/lovely_tensors/utils/config.py#L53){target=\"_blank\" style=\"float:right; font-size:smaller\"}\n",
       "\n",
       "### get_config\n",
       "\n",
       ">      get_config ()\n",
       "\n",
       "Get a copy of config variables"
      ],
      "text/plain": [
       "---\n",
       "\n",
       "[source](https://github.com/xl0/lovely-tensors/blob/master/lovely_tensors/utils/config.py#L53){target=\"_blank\" style=\"float:right; font-size:smaller\"}\n",
       "\n",
       "### get_config\n",
       "\n",
       ">      get_config ()\n",
       "\n",
       "Get a copy of config variables"
      ]
     },
     "execution_count": null,
     "metadata": {},
     "output_type": "execute_result"
    }
   ],
   "source": [
    "show_doc(get_config)"
   ]
  },
  {
   "cell_type": "code",
   "execution_count": null,
   "metadata": {},
   "outputs": [
    {
     "data": {
      "text/markdown": [
       "---\n",
       "\n",
       "[source](https://github.com/xl0/lovely-tensors/blob/master/lovely_tensors/utils/config.py#L59){target=\"_blank\" style=\"float:right; font-size:smaller\"}\n",
       "\n",
       "### config\n",
       "\n",
       ">      config (precision:Union[~Default,int,NoneType]=Ignore,\n",
       ">              threshold_min:Union[~Default,int,NoneType]=Ignore,\n",
       ">              threshold_max:Union[~Default,int,NoneType]=Ignore,\n",
       ">              sci_mode:Union[~Default,bool,NoneType]=Ignore,\n",
       ">              indent:Union[~Default,bool,NoneType]=Ignore,\n",
       ">              color:Union[~Default,bool,NoneType]=Ignore,\n",
       ">              deeper_width:Union[~Default,int,NoneType]=Ignore)\n",
       "\n",
       "Context manager for temporarily setting printting options.\n",
       "\n",
       "|    | **Type** | **Default** | **Details** |\n",
       "| -- | -------- | ----------- | ----------- |\n",
       "| precision | Union | Ignore | Digits after `.` |\n",
       "| threshold_min | Union | Ignore | .abs() larger than 1e3 -> Sci mode |\n",
       "| threshold_max | Union | Ignore | .abs() smaller that 1e-4 -> Sci mode |\n",
       "| sci_mode | Union | Ignore | Sci mode (1.2e3), True, False, None=auto. |\n",
       "| indent | Union | Ignore | Indent for .deeper() |\n",
       "| color | Union | Ignore | ANSI colors in text |\n",
       "| deeper_width | Union | Ignore | For .deeper, how many entries to show per level |"
      ],
      "text/plain": [
       "---\n",
       "\n",
       "[source](https://github.com/xl0/lovely-tensors/blob/master/lovely_tensors/utils/config.py#L59){target=\"_blank\" style=\"float:right; font-size:smaller\"}\n",
       "\n",
       "### config\n",
       "\n",
       ">      config (precision:Union[~Default,int,NoneType]=Ignore,\n",
       ">              threshold_min:Union[~Default,int,NoneType]=Ignore,\n",
       ">              threshold_max:Union[~Default,int,NoneType]=Ignore,\n",
       ">              sci_mode:Union[~Default,bool,NoneType]=Ignore,\n",
       ">              indent:Union[~Default,bool,NoneType]=Ignore,\n",
       ">              color:Union[~Default,bool,NoneType]=Ignore,\n",
       ">              deeper_width:Union[~Default,int,NoneType]=Ignore)\n",
       "\n",
       "Context manager for temporarily setting printting options.\n",
       "\n",
       "|    | **Type** | **Default** | **Details** |\n",
       "| -- | -------- | ----------- | ----------- |\n",
       "| precision | Union | Ignore | Digits after `.` |\n",
       "| threshold_min | Union | Ignore | .abs() larger than 1e3 -> Sci mode |\n",
       "| threshold_max | Union | Ignore | .abs() smaller that 1e-4 -> Sci mode |\n",
       "| sci_mode | Union | Ignore | Sci mode (1.2e3), True, False, None=auto. |\n",
       "| indent | Union | Ignore | Indent for .deeper() |\n",
       "| color | Union | Ignore | ANSI colors in text |\n",
       "| deeper_width | Union | Ignore | For .deeper, how many entries to show per level |"
      ]
     },
     "execution_count": null,
     "metadata": {},
     "output_type": "execute_result"
    }
   ],
   "source": [
    "show_doc(config)"
   ]
  },
  {
   "cell_type": "markdown",
   "metadata": {},
   "source": [
    "### Examples"
   ]
  },
  {
   "cell_type": "code",
   "execution_count": null,
   "metadata": {},
   "outputs": [],
   "source": [
    "import torch\n",
    "from lovely_tensors import set_config, get_config, config, lovely"
   ]
  },
  {
   "cell_type": "code",
   "execution_count": null,
   "metadata": {},
   "outputs": [
    {
     "data": {
      "text/plain": [
       "tensor[3] μ=1.50000 σ=0.70711 \u001b[31mNaN!\u001b[0m [1.00000, 2.00000, nan]"
      ]
     },
     "execution_count": null,
     "metadata": {},
     "output_type": "execute_result"
    }
   ],
   "source": [
    "set_config(precision=5, )\n",
    "\n",
    "lovely(torch.tensor([1., 2, float(\"nan\")]))"
   ]
  },
  {
   "cell_type": "code",
   "execution_count": null,
   "metadata": {},
   "outputs": [
    {
     "name": "stdout",
     "output_type": "stream",
     "text": [
      "tensor[3] μ=1.50000e+00 σ=7.07107e-01 NaN! [1.00000e+00, 2.00000e+00, nan]\n"
     ]
    }
   ],
   "source": [
    "with config(sci_mode=True, color=False):\n",
    "    print(lovely(torch.tensor([1., 2, float(\"nan\")])))\n",
    "    test_eq(str(lovely(torch.tensor([1, float(\"nan\")]))), \"tensor[2] NaN! [1.00000e+00, nan]\")"
   ]
  },
  {
   "cell_type": "code",
   "execution_count": null,
   "metadata": {},
   "outputs": [
    {
     "data": {
      "text/plain": [
       "tensor[3] μ=1.50 σ=0.71 \u001b[31mNaN!\u001b[0m [1.00, 2.00, nan]"
      ]
     },
     "execution_count": null,
     "metadata": {},
     "output_type": "execute_result"
    }
   ],
   "source": [
    "set_config(precision=2)\n",
    "lovely( torch.tensor( [1., 2, float(\"nan\")] ))"
   ]
  },
  {
   "cell_type": "code",
   "execution_count": null,
   "metadata": {},
   "outputs": [],
   "source": [
    "# |hide\n",
    "import nbdev; nbdev.nbdev_export()"
   ]
  }
 ],
 "metadata": {
  "kernelspec": {
   "display_name": "Python 3.10.6 ('torch')",
   "language": "python",
   "name": "python3"
  }
 },
 "nbformat": 4,
 "nbformat_minor": 2
}
